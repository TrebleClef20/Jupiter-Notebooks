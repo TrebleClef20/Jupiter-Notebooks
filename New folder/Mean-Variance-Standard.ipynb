{
 "cells": [
  {
   "cell_type": "code",
   "execution_count": 42,
   "metadata": {},
   "outputs": [],
   "source": [
    "import numpy as np\n",
    "\n",
    "def calculate(list):\n",
    "  if len(list) < 9:\n",
    "    raise ValueError(\"List must contain nine numbers.\")\n",
    "  \n",
    "  def list_of_functions(array, axis):\n",
    "    for_return = [np.mean(array, axis=axis),\n",
    "                  np.var(array, axis=axis),\n",
    "                  np.std(array, axis=axis),\n",
    "                  np.max(array, axis=axis),\n",
    "                  np.min(array, axis=axis),\n",
    "                  np.sum(array, axis=axis)]\n",
    "    return np.array(for_return)\n",
    "\n",
    "  cube = np.array(list).reshape(3,3)\n",
    "\n",
    "  values = [list_of_functions(cube, ele).tolist() for ele in [0, 1, None]]\n",
    "\n",
    "  keys = ['mean', 'variance','standard deviation','max','min','sum']\n",
    "\n",
    "  calculations = dict()\n",
    "  for i in range(6):\n",
    "    calculations[keys[i]] = [values[0][i],values[1][i],values[2][i]]\n",
    "\n",
    "  return calculations"
   ]
  },
  {
   "cell_type": "code",
   "execution_count": 43,
   "metadata": {},
   "outputs": [
    {
     "name": "stdout",
     "output_type": "stream",
     "text": [
      "{'mean': [[3.0, 4.0, 5.0], [1.0, 4.0, 7.0], 4.0], 'variance': [[6.0, 6.0, 6.0], [0.6666666666666666, 0.6666666666666666, 0.6666666666666666], 6.666666666666667], 'standard deviation': [[2.449489742783178, 2.449489742783178, 2.449489742783178], [0.816496580927726, 0.816496580927726, 0.816496580927726], 2.581988897471611], 'max': [[6.0, 7.0, 8.0], [2.0, 5.0, 8.0], 8.0], 'min': [[0.0, 1.0, 2.0], [0.0, 3.0, 6.0], 0.0], 'sum': [[9.0, 12.0, 15.0], [3.0, 12.0, 21.0], 36.0]}\n"
     ]
    }
   ],
   "source": [
    "print(calculate([0,1,2,3,4,5,6,7,8]))"
   ]
  },
  {
   "cell_type": "code",
   "execution_count": null,
   "metadata": {},
   "outputs": [],
   "source": []
  },
  {
   "cell_type": "code",
   "execution_count": 13,
   "metadata": {},
   "outputs": [
    {
     "data": {
      "text/plain": [
       "array([[ 1,  7, 13],\n",
       "       [ 2,  8, 14],\n",
       "       [ 3,  9, 15],\n",
       "       [ 4, 10, 16],\n",
       "       [ 5, 11, 17],\n",
       "       [ 6, 12, 18]])"
      ]
     },
     "execution_count": 13,
     "metadata": {},
     "output_type": "execute_result"
    }
   ],
   "source": [
    "d = np.array([[1, 2, 3,4,5,6],\n",
    "                 [7,8,9,10,11,12],\n",
    "                 [13,14,15,16,17,18]])\n",
    "np.transpose(d)"
   ]
  }
 ],
 "metadata": {
  "kernelspec": {
   "display_name": "base",
   "language": "python",
   "name": "python3"
  },
  "language_info": {
   "codemirror_mode": {
    "name": "ipython",
    "version": 3
   },
   "file_extension": ".py",
   "mimetype": "text/x-python",
   "name": "python",
   "nbconvert_exporter": "python",
   "pygments_lexer": "ipython3",
   "version": "3.11.3"
  },
  "orig_nbformat": 4
 },
 "nbformat": 4,
 "nbformat_minor": 2
}
